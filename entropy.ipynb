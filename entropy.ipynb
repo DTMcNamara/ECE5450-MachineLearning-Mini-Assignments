{
 "cells": [
  {
   "cell_type": "markdown",
   "metadata": {},
   "source": [
    "#  <font color='red'> Review of entropy using python </font> \n",
    " \n",
    "We will use pandas to read a CSV file and to store data\n",
    "\n",
    "Documentation of pandas https://pandas.pydata.org/pandas-docs/stable/user_guide/10min.html"
   ]
  },
  {
   "cell_type": "code",
   "execution_count": 21,
   "metadata": {},
   "outputs": [],
   "source": [
    "import pandas as pd\n",
    "import numpy as np\n"
   ]
  },
  {
   "cell_type": "markdown",
   "metadata": {},
   "source": [
    "## Download student-mat.csv from ICON\n",
    "\n",
    "The csv file is downloaded from Kaggle \n",
    "https://www.kaggle.com/uciml/student-alcohol-consumption/data?select=student-mat.csv\n"
   ]
  },
  {
   "cell_type": "code",
   "execution_count": 22,
   "metadata": {},
   "outputs": [
    {
     "output_type": "execute_result",
     "data": {
      "text/plain": "  school sex  age address famsize Pstatus  Medu  Fedu     Mjob     Fjob  ...  \\\n0     GP   F   18       U     GT3       A     4     4  at_home  teacher  ...   \n1     GP   F   17       U     GT3       T     1     1  at_home    other  ...   \n2     GP   F   15       U     LE3       T     1     1  at_home    other  ...   \n\n  famrel freetime  goout  Dalc  Walc health absences G1 G2  G3  \n0      4        3      4     1     1      3        6  5  6   6  \n1      5        3      3     1     1      3        4  5  5   6  \n2      4        3      2     2     3      3       10  7  8  10  \n\n[3 rows x 33 columns]",
      "text/html": "<div>\n<style scoped>\n    .dataframe tbody tr th:only-of-type {\n        vertical-align: middle;\n    }\n\n    .dataframe tbody tr th {\n        vertical-align: top;\n    }\n\n    .dataframe thead th {\n        text-align: right;\n    }\n</style>\n<table border=\"1\" class=\"dataframe\">\n  <thead>\n    <tr style=\"text-align: right;\">\n      <th></th>\n      <th>school</th>\n      <th>sex</th>\n      <th>age</th>\n      <th>address</th>\n      <th>famsize</th>\n      <th>Pstatus</th>\n      <th>Medu</th>\n      <th>Fedu</th>\n      <th>Mjob</th>\n      <th>Fjob</th>\n      <th>...</th>\n      <th>famrel</th>\n      <th>freetime</th>\n      <th>goout</th>\n      <th>Dalc</th>\n      <th>Walc</th>\n      <th>health</th>\n      <th>absences</th>\n      <th>G1</th>\n      <th>G2</th>\n      <th>G3</th>\n    </tr>\n  </thead>\n  <tbody>\n    <tr>\n      <th>0</th>\n      <td>GP</td>\n      <td>F</td>\n      <td>18</td>\n      <td>U</td>\n      <td>GT3</td>\n      <td>A</td>\n      <td>4</td>\n      <td>4</td>\n      <td>at_home</td>\n      <td>teacher</td>\n      <td>...</td>\n      <td>4</td>\n      <td>3</td>\n      <td>4</td>\n      <td>1</td>\n      <td>1</td>\n      <td>3</td>\n      <td>6</td>\n      <td>5</td>\n      <td>6</td>\n      <td>6</td>\n    </tr>\n    <tr>\n      <th>1</th>\n      <td>GP</td>\n      <td>F</td>\n      <td>17</td>\n      <td>U</td>\n      <td>GT3</td>\n      <td>T</td>\n      <td>1</td>\n      <td>1</td>\n      <td>at_home</td>\n      <td>other</td>\n      <td>...</td>\n      <td>5</td>\n      <td>3</td>\n      <td>3</td>\n      <td>1</td>\n      <td>1</td>\n      <td>3</td>\n      <td>4</td>\n      <td>5</td>\n      <td>5</td>\n      <td>6</td>\n    </tr>\n    <tr>\n      <th>2</th>\n      <td>GP</td>\n      <td>F</td>\n      <td>15</td>\n      <td>U</td>\n      <td>LE3</td>\n      <td>T</td>\n      <td>1</td>\n      <td>1</td>\n      <td>at_home</td>\n      <td>other</td>\n      <td>...</td>\n      <td>4</td>\n      <td>3</td>\n      <td>2</td>\n      <td>2</td>\n      <td>3</td>\n      <td>3</td>\n      <td>10</td>\n      <td>7</td>\n      <td>8</td>\n      <td>10</td>\n    </tr>\n  </tbody>\n</table>\n<p>3 rows × 33 columns</p>\n</div>"
     },
     "metadata": {},
     "execution_count": 22
    }
   ],
   "source": [
    "\n",
    "df = pd.read_csv('student-mat.csv')\n",
    "df.head(3)\n"
   ]
  },
  {
   "cell_type": "markdown",
   "metadata": {},
   "source": [
    "## Create a smaller data frame with only two columns\n",
    "\n",
    "Grade A: G3  > 80%\n",
    "\n",
    "Absences: high absences, if a student missed 10 or more classes.\n"
   ]
  },
  {
   "cell_type": "code",
   "execution_count": 23,
   "metadata": {},
   "outputs": [
    {
     "output_type": "execute_result",
     "data": {
      "text/plain": "   Grade  Absences  count\n0      0         0      1\n1      0         0      1\n2      0         1      1\n3      0         0      1\n4      0         0      1\n5      0         1      1\n6      0         0      1\n7      0         0      1\n8      1         0      1\n9      0         0      1",
      "text/html": "<div>\n<style scoped>\n    .dataframe tbody tr th:only-of-type {\n        vertical-align: middle;\n    }\n\n    .dataframe tbody tr th {\n        vertical-align: top;\n    }\n\n    .dataframe thead th {\n        text-align: right;\n    }\n</style>\n<table border=\"1\" class=\"dataframe\">\n  <thead>\n    <tr style=\"text-align: right;\">\n      <th></th>\n      <th>Grade</th>\n      <th>Absences</th>\n      <th>count</th>\n    </tr>\n  </thead>\n  <tbody>\n    <tr>\n      <th>0</th>\n      <td>0</td>\n      <td>0</td>\n      <td>1</td>\n    </tr>\n    <tr>\n      <th>1</th>\n      <td>0</td>\n      <td>0</td>\n      <td>1</td>\n    </tr>\n    <tr>\n      <th>2</th>\n      <td>0</td>\n      <td>1</td>\n      <td>1</td>\n    </tr>\n    <tr>\n      <th>3</th>\n      <td>0</td>\n      <td>0</td>\n      <td>1</td>\n    </tr>\n    <tr>\n      <th>4</th>\n      <td>0</td>\n      <td>0</td>\n      <td>1</td>\n    </tr>\n    <tr>\n      <th>5</th>\n      <td>0</td>\n      <td>1</td>\n      <td>1</td>\n    </tr>\n    <tr>\n      <th>6</th>\n      <td>0</td>\n      <td>0</td>\n      <td>1</td>\n    </tr>\n    <tr>\n      <th>7</th>\n      <td>0</td>\n      <td>0</td>\n      <td>1</td>\n    </tr>\n    <tr>\n      <th>8</th>\n      <td>1</td>\n      <td>0</td>\n      <td>1</td>\n    </tr>\n    <tr>\n      <th>9</th>\n      <td>0</td>\n      <td>0</td>\n      <td>1</td>\n    </tr>\n  </tbody>\n</table>\n</div>"
     },
     "metadata": {},
     "execution_count": 23
    }
   ],
   "source": [
    "newlist = pd.DataFrame()\n",
    "newlist['Grade'] = np.where(df['G3']*5 >= 80, 1, 0)\n",
    "newlist['Absences'] = np.where(df['absences'] >= 10, 1, 0)\n",
    "newlist['count'] = 1\n",
    "newlist.head(10)"
   ]
  },
  {
   "cell_type": "markdown",
   "metadata": {},
   "source": [
    "## Compute joint, marginal, and conditional probabilities\n"
   ]
  },
  {
   "cell_type": "code",
   "execution_count": 24,
   "metadata": {
    "scrolled": true
   },
   "outputs": [],
   "source": [
    "Joint_table = pd.pivot_table(\n",
    "    newlist, \n",
    "    values='count', \n",
    "    index=['Grade'], \n",
    "    columns=['Absences'], \n",
    "    aggfunc=np.size, \n",
    "    fill_value=0\n",
    ")\n",
    "\n",
    "Joint_table = Joint_table.to_numpy()\n",
    "\n",
    "# Joint probabilities\n",
    "PAG = Joint_table/len(newlist)"
   ]
  },
  {
   "cell_type": "markdown",
   "metadata": {},
   "source": [
    "## Joint Entropy, Individual Entropies, Mutual Information and Conditional entropies\n",
    "\n",
    "Entropy of X and Y: information in the random variable\n",
    "$$H(X) = -\\sum_i p(x_i) \\log_2 p(x_i) = -\\sum_{i,j}p(x_i,y_j)\\log_2(p(x_i))$$\n",
    "\n",
    "If the variables are independent, we have $p(x,y)=p(x)p(y)$. We can visually compare $p(x,y)$ and $p(x)p(y)$ to see the similarity.\n",
    "\n",
    "Mutual information between the variables is the KL divergence between $p(x,y)$ and $p(x)p(y)$\n",
    "$$MI(X,Y) = KL(p(x,y)||p(x)p(y)) = \\sum_{i,j} p(x_i,y_j) \\log_2 \\left(\\frac{p(x_i,y_j)}{p(x_i)p(y_j)}\\right)$$\n",
    "\n",
    "\n",
    "Conditional entropy be obtained as $H(X|Y) = H(X)-MI(X,Y)$. Specifically, the information in X that is not obtained from Y can be obtained as the difference between the information in X and the Mutual Information (shared between the two)\n",
    "\n",
    "## <font color=red> YOUR TASK: COMPLETE THE CODE FOR MUTUAL INFORMATION </font>\n"
   ]
  },
  {
   "cell_type": "code",
   "execution_count": 25,
   "metadata": {
    "tags": []
   },
   "outputs": [
    {
     "output_type": "stream",
     "name": "stdout",
     "text": "Joint probabilities\n[[0.70126582 0.19746835]\n [0.08860759 0.01265823]]\n--------------------\nProduct of marginals\n[[0.70988624 0.18884794]\n [0.07998718 0.02127864]]\n--------------------\nMutual Information\n0.0039541826667557275\n--------------------\nEntropy of Absences 0.7417246276548037\nEntropy of Grades 0.4729953622931483\nEnropy of A given G 0.737770444988048\nEnropy of G given A 0.4690411796263926\n"
    }
   ],
   "source": [
    "HAG = -np.sum(PAG * np.log2(PAG))\n",
    "\n",
    "# Marginals: Sum along the grades/absences axis \n",
    "PA = np.sum(PAG,axis=0)\n",
    "# Sum along the absences axis \n",
    "PG = np.sum(PAG,axis=1)\n",
    "\n",
    "# Entropy of Absences\n",
    "HA = -np.sum(PAG * np.log2(PA[None,:]))\n",
    "# Entropy of Grades\n",
    "HG = -np.sum(PAG * np.log2(PG[:,None]))\n",
    "\n",
    "# P(A)P(G) will be equal to the joint probability, if the features are independent\n",
    "PAPG = PA[None,:]*PG[:,None]\n",
    "\n",
    "# Mutual information is the KL divergence between PAPG and the joint probability\n",
    "# Low mutual information implies that the measures are almost independent\n",
    "\n",
    "# YOUR CODE HERE\n",
    "#--------------------------------------------------\n",
    "#PAG is p(x,y), PAPG is p(x)p(y)\n",
    "MI = np.sum(PAG * np.log2(PAG/PAPG))\n",
    "\n",
    "#--------------------------------------------------\n",
    "\n",
    "# Conditional entropy: Information in A that is not explained by G\n",
    "HAgivenG = HA - MI\n",
    "# Conditional entropy: Information in G that is not explained by A\n",
    "HGgivenA = HG - MI\n",
    "\n",
    "\n",
    "PGgivenA = PAG/PA[None,:]\n",
    "PAgivenG = PAG/PG[:,None]\n",
    "\n",
    "print('Joint probabilities')\n",
    "print(PAG)\n",
    "print('--------------------')\n",
    "\n",
    "print('Product of marginals')\n",
    "print(PAPG)\n",
    "print('--------------------')\n",
    "\n",
    "print('Mutual Information')\n",
    "print(MI)\n",
    "print('--------------------')\n",
    "\n",
    "print('Entropy of Absences',HA)\n",
    "print('Entropy of Grades',HG)\n",
    "print('Enropy of A given G',HAgivenG)\n",
    "print('Enropy of G given A',HGgivenA)\n",
    "\n"
   ]
  },
  {
   "cell_type": "markdown",
   "metadata": {},
   "source": [
    "## <font color=red>To do: Compute conditional entropies differently </font>\n",
    "\n",
    "Conditional entropy H(X|Y): information in X that is not obtained from Y is the expectation of the conditional probabilities\n",
    "$$H(X|Y) = -\\sum_{i,j} p(x_i,y_i) \\log_2 p(x_i|y_i)$$\n",
    "\n",
    "You can use the conditional probabilities PGgivenA and PAgivenG above as well as the joint probabilites PAG to evaluate them direcly. Verify that numbers match the ones computed using mutual information\n"
   ]
  },
  {
   "cell_type": "code",
   "execution_count": 26,
   "metadata": {
    "tags": []
   },
   "outputs": [
    {
     "output_type": "stream",
     "name": "stdout",
     "text": "Enropy of A given G computed directly 0.7377704449880482\nEnropy of G given A computed directly 0.46904117962639263\n"
    }
   ],
   "source": [
    "# Modify the following code\n",
    "\n",
    "HAgivenGComputedDifferently = -np.sum(PAG * np.log2(PAgivenG))\n",
    "HGgivenAComputedDifferently = -np.sum(PAG * np.log2(PGgivenA))\n",
    "\n",
    "#--------------------------------------\n",
    "print('Enropy of A given G computed directly',HAgivenGComputedDifferently)\n",
    "print('Enropy of G given A computed directly',HGgivenAComputedDifferently)\n",
    "\n"
   ]
  }
 ],
 "metadata": {
  "kernelspec": {
   "display_name": "Python 3",
   "language": "python",
   "name": "python3"
  },
  "language_info": {
   "codemirror_mode": {
    "name": "ipython",
    "version": 3
   },
   "file_extension": ".py",
   "mimetype": "text/x-python",
   "name": "python",
   "nbconvert_exporter": "python",
   "pygments_lexer": "ipython3",
   "version": "3.8.3-final"
  }
 },
 "nbformat": 4,
 "nbformat_minor": 4
}